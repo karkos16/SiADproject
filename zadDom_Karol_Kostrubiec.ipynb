{
  "nbformat": 4,
  "nbformat_minor": 0,
  "metadata": {
    "colab": {
      "provenance": [],
      "toc_visible": true,
      "collapsed_sections": [
        "3AyPPujVgl5n",
        "GuxXE9kcVdKK"
      ],
      "authorship_tag": "ABX9TyMcDexVlZQiNQwxsgRXsLSA",
      "include_colab_link": true
    },
    "kernelspec": {
      "name": "ir",
      "display_name": "R"
    },
    "language_info": {
      "name": "R"
    }
  },
  "cells": [
    {
      "cell_type": "markdown",
      "metadata": {
        "id": "view-in-github",
        "colab_type": "text"
      },
      "source": [
        "<a href=\"https://colab.research.google.com/github/karkos16/SiADproject/blob/main/zadDom_Karol_Kostrubiec.ipynb\" target=\"_parent\"><img src=\"https://colab.research.google.com/assets/colab-badge.svg\" alt=\"Open In Colab\"/></a>"
      ]
    },
    {
      "cell_type": "markdown",
      "source": [
        "****\n",
        "**Karol Kostrubiec 151820 i najwiekszy chuj na miescie JJ Julia Jebaczżon**\n",
        "****"
      ],
      "metadata": {
        "id": "yQQ-7aXKJPAf"
      }
    },
    {
      "cell_type": "markdown",
      "source": [
        "****\n",
        "# Zbiór danych\n",
        "**Pochodzenie i opis**\n",
        "\n",
        "Zbiór danych wykorzystany w mojej pracy można znaleźc pod linkiem: https://www.kaggle.com/datasets/ruchi798/drug-overdose-deaths\n",
        "\n",
        "Przedstawia on śmierci powiązane z przedawkowaniem narkotyków w stanie Connecticut w latach 2012 - 2018. Zbiór zawiera ponad 5000 unikalnych danych o zgonie, każdy rekord w zbiorze danych opisuje jeden odnotowany zgon. Każdy odnotowany zgon zawiera informacje na temat daty zgłoszenia/śmierci, wieku, płci, rasy, miasta, hrabstwa oraz stan zamieszkania osoby zmarłej z powodu przedawkowania narkotyków. Jednak ja w swojej pracy użyję tylko dane związane z datą śmierci, wiekiem, płcią oraz rasą.\n",
        "****"
      ],
      "metadata": {
        "id": "bjgwVLugLurq"
      }
    },
    {
      "cell_type": "code",
      "source": [
        "url <- \"https://raw.githubusercontent.com/karkos16/SiADproject/main/drug_deaths.csv\"\n",
        "destfile <- \"drug_deaths.csv\"\n",
        "download.file(url, destfile)"
      ],
      "metadata": {
        "id": "2PO6_CLmDFQ8"
      },
      "execution_count": 1,
      "outputs": []
    },
    {
      "cell_type": "markdown",
      "source": [
        "\n",
        "# Analiza eksploracyjna"
      ],
      "metadata": {
        "id": "ftRN6DoRJCTi"
      }
    },
    {
      "cell_type": "code",
      "source": [
        "library(dplyr)\n",
        "library(ggplot2)"
      ],
      "metadata": {
        "id": "CdXBIPEyggzQ",
        "colab": {
          "base_uri": "https://localhost:8080/"
        },
        "outputId": "f952d2e2-abbd-46b9-be0c-79c8e4176e15"
      },
      "execution_count": 2,
      "outputs": [
        {
          "output_type": "stream",
          "name": "stderr",
          "text": [
            "\n",
            "Attaching package: ‘dplyr’\n",
            "\n",
            "\n",
            "The following objects are masked from ‘package:stats’:\n",
            "\n",
            "    filter, lag\n",
            "\n",
            "\n",
            "The following objects are masked from ‘package:base’:\n",
            "\n",
            "    intersect, setdiff, setequal, union\n",
            "\n",
            "\n"
          ]
        }
      ]
    },
    {
      "cell_type": "code",
      "execution_count": 53,
      "metadata": {
        "id": "pxHTaS3UJ9vy"
      },
      "outputs": [],
      "source": [
        "# Wczytanie danych z pliku drug_deaths.csv\n",
        "data <- read.csv(\"drug_deaths.csv\")\n",
        "data <- data[complete.cases(data$Age),] #pozbycie się wartości nieokreślonych\n",
        "data <- data[complete.cases(data$Race),]\n",
        "data <- data[complete.cases(data$Sex),]"
      ]
    },
    {
      "cell_type": "code",
      "source": [
        "n <- length(data$ID) #liczba unikalnych rekordów\n",
        "k <- round(5*log10(n),0) - 6\n",
        "h <- floor((max(data$Age) - min(data$Age))/k)\n",
        "\n",
        "print(paste(\"Liczba przedziałów:\", k))\n",
        "print(paste(\"Szerokość przedziału:\", h))\n",
        "print(paste(\"Maksymalna wartość:\", max(data$Age)))\n",
        "print(paste(\"Minimalna wartość:\", min(data$Age)))"
      ],
      "metadata": {
        "colab": {
          "base_uri": "https://localhost:8080/"
        },
        "id": "3kaYlrQNZgqN",
        "outputId": "db7ec8bd-6322-407d-eb7d-e4da21884f88"
      },
      "execution_count": 4,
      "outputs": [
        {
          "output_type": "stream",
          "name": "stdout",
          "text": [
            "[1] \"Liczba przedziałów: 13\"\n",
            "[1] \"Szerokość przedziału: 5\"\n",
            "[1] \"Maksymalna wartość: 87\"\n",
            "[1] \"Minimalna wartość: 14\"\n"
          ]
        }
      ]
    },
    {
      "cell_type": "markdown",
      "source": [
        "Na podstawie teoretycznych wartości liczby przedziałów i szerokości przedziału, biorąc pod uwagę wartość minimalną i maksymalną postanowiłem zwiększyć liczbę przedziałów nie zmieniając ich szerokości co pozwoliło na pokrycie wszystkich wartości. Poniższy histogram jest generowany za pomocą funkcji języka R, jednak szerokość oraz liczba przedziałów zgadza się z oczekiwanymi wartościami, dlatego nie ma potrzeby aby generować wykres \"ręcznie\"."
      ],
      "metadata": {
        "id": "BEBgeliFh_0l"
      }
    },
    {
      "cell_type": "code",
      "source": [
        "hist(\n",
        "  data$Age,\n",
        "  main = \"Liczba zgonów w stanie Connecticut z podziałem na wiek\",\n",
        "  xlab = \"Wiek\",\n",
        "  ylab = \"Liczba zgonów\",\n",
        "  col = \"steelblue\"\n",
        ")"
      ],
      "metadata": {
        "colab": {
          "base_uri": "https://localhost:8080/",
          "height": 437
        },
        "id": "CuXOT0A5ibCa",
        "outputId": "c74aebee-2e44-4e54-f925-6392ee107fec"
      },
      "execution_count": 5,
      "outputs": [
        {
          "output_type": "display_data",
          "data": {
            "text/plain": [
              "Plot with title “Liczba zgonów w stanie Connecticut z podziałem na wiek”"
            ],
            "image/png": "[encoded data removed]"
          },
          "metadata": {
            "image/png": {
              "width": 420,
              "height": 420
            }
          }
        }
      ]
    },
    {
      "cell_type": "code",
      "source": [
        "sex_count <- data.frame(data$Sex)\n",
        "\n",
        "ggplot(sex_count, aes(x=data$Sex)) + geom_bar(fill = \"steelblue\") + labs(title = \"Podział ze względu na płeć\",\n",
        "               x = \"Płeć\",\n",
        "               y = \"Liczba zgonów\")"
      ],
      "metadata": {
        "colab": {
          "base_uri": "https://localhost:8080/",
          "height": 437
        },
        "id": "b4YTs_ZYKJg1",
        "outputId": "941d4788-f039-4a3a-90ac-ff1c51753ccf"
      },
      "execution_count": 6,
      "outputs": [
        {
          "output_type": "display_data",
          "data": {
            "text/plain": [
              "plot without title"
            ],
            "image/png": "[encoded data removed]"
          },
          "metadata": {
            "image/png": {
              "width": 420,
              "height": 420
            }
          }
        }
      ]
    },
    {
      "cell_type": "markdown",
      "source": [
        "Jak widać na powyższym wykresie mężczyźni są głównymi osobami w bazie danych i przewyżają liczbę zgonów kobiet prawie trzykrotnie.\n",
        "****"
      ],
      "metadata": {
        "id": "6dbVUMfW94Pj"
      }
    },
    {
      "cell_type": "code",
      "source": [
        "race_count <- table(data$Race)\n",
        "race_count\n",
        "count <- length(data$Race)\n",
        "white_percent = race_count['White']/count * 100\n",
        "latin_percent = (race_count['Hispanic, White'] + race_count['Hispanic, Black']) /count * 100\n",
        "black_percent = race_count['Black']/count * 100\n",
        "print(paste(\"Liczba rekordów: \", count))\n",
        "print(paste(\"% białych: \", race_count['White']/count * 100))\n",
        "print(paste(\"% latynosów\", (race_count['Hispanic, White'] + race_count['Hispanic, Black']) /count * 100))\n",
        "print(paste(\"% czarnych: \", race_count['Black']/count * 100))\n"
      ],
      "metadata": {
        "colab": {
          "base_uri": "https://localhost:8080/",
          "height": 254
        },
        "id": "MxTDx3F8vOhe",
        "outputId": "659ced65-b69e-42c2-fcc9-f5374481e57f"
      },
      "execution_count": 7,
      "outputs": [
        {
          "output_type": "display_data",
          "data": {
            "text/plain": [
              "\n",
              "                                 Asian Indian           Asian, Other \n",
              "                    10                     14                     18 \n",
              "                 Black                Chinese               Hawaiian \n",
              "                   433                      2                      1 \n",
              "       Hispanic, Black        Hispanic, White Native American, Other \n",
              "                    24                    561                      1 \n",
              "                 Other                Unknown                  White \n",
              "                    11                     23                   4004 "
            ]
          },
          "metadata": {}
        },
        {
          "output_type": "stream",
          "name": "stdout",
          "text": [
            "[1] \"Liczba rekordów:  5102\"\n",
            "[1] \"% białych:  78.4790278322227\"\n",
            "[1] \"% latynosów 11.4660917287338\"\n",
            "[1] \"% czarnych:  8.48686789494316\"\n"
          ]
        }
      ]
    },
    {
      "cell_type": "markdown",
      "source": [
        "Wśród zbioru danych można wyróźnić 3 główne rasy są to biali, czarni oraz latynosi. Obliczając udział procentowy w liczbie zgonów, chciałem sprawdzić jak to się ma do danych populacji, które znalazłem pod linkiem: https://www.populationu.com/us/connecticut-population#race. Można zauważyć, że udziały procentowe poszczególnych ras w populacji stanu, są zbliżone do udziału procentowego poszczególnych ras w badanym zbiorze."
      ],
      "metadata": {
        "id": "6Tg2CSzgCxoG"
      }
    },
    {
      "cell_type": "markdown",
      "source": [
        "**Statystyki opisowe**\n",
        "****\n",
        "Wiek"
      ],
      "metadata": {
        "id": "zQ6VIbfYEPF3"
      }
    },
    {
      "cell_type": "code",
      "source": [
        "print(paste(\"Średnia wieku: \", mean(data$Age)))\n",
        "print(paste(\"Mediana wieku: \", median(data$Age)))\n",
        "print(paste(\"Wariancja: \", var(data$Age)))\n",
        "print(paste(\"Odchylenie standardowe: \", sd(data$Age)))"
      ],
      "metadata": {
        "colab": {
          "base_uri": "https://localhost:8080/"
        },
        "id": "JjM7AEdMEaYD",
        "outputId": "a0f91f75-7270-4bea-e15f-a223c4b5bfc4"
      },
      "execution_count": null,
      "outputs": [
        {
          "output_type": "stream",
          "name": "stdout",
          "text": [
            "[1] \"Średnia wieku:  41.9649157193258\"\n",
            "[1] \"Mediana wieku:  42\"\n",
            "[1] \"Wariancja:  152.192652404187\"\n",
            "[1] \"Odchylenie standardowe:  12.3366386185292\"\n"
          ]
        }
      ]
    },
    {
      "cell_type": "markdown",
      "source": [
        "****\n",
        "# Testy statystyczne\n"
      ],
      "metadata": {
        "id": "LbKdc_MfIMhR"
      }
    },
    {
      "cell_type": "markdown",
      "source": [
        "***\n",
        "## test $\\chi^2$ \n",
        "***"
      ],
      "metadata": {
        "id": "3AyPPujVgl5n"
      }
    },
    {
      "cell_type": "markdown",
      "source": [
        "Zastosowałem test $\\chi^2$ w celu sprawdzenia czy śmiertelność poszczególnych ras jest zgodna z ich rozkładem w populacji(stanie Conecticut), dane dotyczące populacji zostały pobrane z: https://www.populationu.com/us/connecticut-population#race. W teście porównałem cztery najliczniejsze rasy: biali, czarni, latynosi, azjaci.\n",
        "Rozkład ludności w stanie Conecticut podano w tabeli *typical*, natomiast zaobserwowaną liczbę zgonów z podziałem na rasy w tabeli observed"
      ],
      "metadata": {
        "id": "Kg9ApqgqMeld"
      }
    },
    {
      "cell_type": "code",
      "source": [
        "black_observed = as.numeric(race_count['Black'])\n",
        "latin_observed = as.numeric(race_count['Hispanic, White']) + as.numeric(race_count['Hispanic, Black'])\n",
        "white_observed = as.numeric(race_count['White'])\n",
        "asian_observed = as.numeric(race_count['Asian Indian'])  + as.numeric(race_count['Chinese'])\n",
        "\n",
        "categories = c(\"Asian\", \"Black\", \"Latin\", \"White\")\n",
        "typical = c(156450, 376240, 551916,\t2757064)\n",
        "observed = c(asian_observed, black_observed, latin_observed, white_observed)"
      ],
      "metadata": {
        "id": "npzkqi-eRF3O"
      },
      "execution_count": null,
      "outputs": []
    },
    {
      "cell_type": "markdown",
      "source": [
        "Postawiona hipoteza zerowa:\n",
        "\n",
        "**h0: rozkład śmierci według rasy jest zgodny z rozkładem rasy w stanie**\n",
        "\n",
        "Postawiona hipoteza alternatywna:\n",
        "\n",
        "**h1: rozkłady nie są zgodne**\n",
        "\n",
        "Przyjęty poziom istotności $\\alpha = 0.05$."
      ],
      "metadata": {
        "id": "lUaWCBIOXoJD"
      }
    },
    {
      "cell_type": "code",
      "source": [
        "alpha = 0.05"
      ],
      "metadata": {
        "id": "4_OzA-UWdOtr"
      },
      "execution_count": null,
      "outputs": []
    },
    {
      "cell_type": "markdown",
      "source": [
        "Liczba stopni swobody *df*:"
      ],
      "metadata": {
        "id": "SujAaXbeYrsA"
      }
    },
    {
      "cell_type": "code",
      "source": [
        "df = length(typical) - 1\n",
        "df"
      ],
      "metadata": {
        "colab": {
          "base_uri": "https://localhost:8080/",
          "height": 34
        },
        "id": "v7WVQ-MwYs1-",
        "outputId": "650e8075-60b5-480c-ab68-94b77a5120db"
      },
      "execution_count": null,
      "outputs": [
        {
          "output_type": "display_data",
          "data": {
            "text/html": [
              "3"
            ],
            "text/markdown": "3",
            "text/latex": "3",
            "text/plain": [
              "[1] 3"
            ]
          },
          "metadata": {}
        }
      ]
    },
    {
      "cell_type": "markdown",
      "source": [
        "Tabela wartoci oczekiwanych:"
      ],
      "metadata": {
        "id": "8Xu-J0NvZFRD"
      }
    },
    {
      "cell_type": "code",
      "source": [
        "sum_observed <- sum(observed)\n",
        "sum_typical <- sum(typical)\n",
        "\n",
        "prob_typical <- typical/sum_typical\n",
        "\n",
        "expected <- prob_typical * sum_observed\n",
        "expected\n",
        "observed"
      ],
      "metadata": {
        "colab": {
          "base_uri": "https://localhost:8080/",
          "height": 52
        },
        "id": "YU45R_fdZI2x",
        "outputId": "4f601b9c-e712-49b9-97e6-f12b2459c8ae"
      },
      "execution_count": null,
      "outputs": [
        {
          "output_type": "display_data",
          "data": {
            "text/html": [
              "<style>\n",
              ".list-inline {list-style: none; margin:0; padding: 0}\n",
              ".list-inline>li {display: inline-block}\n",
              ".list-inline>li:not(:last-child)::after {content: \"\\00b7\"; padding: 0 .5ex}\n",
              "</style>\n",
              "<ol class=list-inline><li>205.169913084674</li><li>493.404462121942</li><li>723.787521572649</li><li>3615.63810322074</li></ol>\n"
            ],
            "text/markdown": "1. 205.169913084674\n2. 493.404462121942\n3. 723.787521572649\n4. 3615.63810322074\n\n\n",
            "text/latex": "\\begin{enumerate*}\n\\item 205.169913084674\n\\item 493.404462121942\n\\item 723.787521572649\n\\item 3615.63810322074\n\\end{enumerate*}\n",
            "text/plain": [
              "[1]  205.1699  493.4045  723.7875 3615.6381"
            ]
          },
          "metadata": {}
        },
        {
          "output_type": "display_data",
          "data": {
            "text/html": [
              "<style>\n",
              ".list-inline {list-style: none; margin:0; padding: 0}\n",
              ".list-inline>li {display: inline-block}\n",
              ".list-inline>li:not(:last-child)::after {content: \"\\00b7\"; padding: 0 .5ex}\n",
              "</style>\n",
              "<ol class=list-inline><li>16</li><li>433</li><li>585</li><li>4004</li></ol>\n"
            ],
            "text/markdown": "1. 16\n2. 433\n3. 585\n4. 4004\n\n\n",
            "text/latex": "\\begin{enumerate*}\n\\item 16\n\\item 433\n\\item 585\n\\item 4004\n\\end{enumerate*}\n",
            "text/plain": [
              "[1]   16  433  585 4004"
            ]
          },
          "metadata": {}
        }
      ]
    },
    {
      "cell_type": "markdown",
      "source": [
        "Statystyka testowa:"
      ],
      "metadata": {
        "id": "NuA7EbWKcefv"
      }
    },
    {
      "cell_type": "code",
      "source": [
        "chisq.test(observed, p=expected/sum(expected))"
      ],
      "metadata": {
        "colab": {
          "base_uri": "https://localhost:8080/",
          "height": 108
        },
        "id": "N_jD2bb1ciBm",
        "outputId": "dfca0b48-9086-4e6b-d14d-bd4aeb0d61e2"
      },
      "execution_count": null,
      "outputs": [
        {
          "output_type": "display_data",
          "data": {
            "text/plain": [
              "\n",
              "\tChi-squared test for given probabilities\n",
              "\n",
              "data:  observed\n",
              "X-squared = 250.14, df = 3, p-value < 2.2e-16\n"
            ]
          },
          "metadata": {}
        }
      ]
    },
    {
      "cell_type": "markdown",
      "source": [
        "Wartość krytyczna"
      ],
      "metadata": {
        "id": "0RmVzHvsdKqI"
      }
    },
    {
      "cell_type": "code",
      "source": [
        "crit = qchisq(1-alpha, df)\n",
        "crit"
      ],
      "metadata": {
        "colab": {
          "base_uri": "https://localhost:8080/",
          "height": 34
        },
        "id": "V1aD6JJxdJQe",
        "outputId": "5114624e-882f-4dcf-c453-2c0f0dcbc2f5"
      },
      "execution_count": null,
      "outputs": [
        {
          "output_type": "display_data",
          "data": {
            "text/html": [
              "7.81472790325118"
            ],
            "text/markdown": "7.81472790325118",
            "text/latex": "7.81472790325118",
            "text/plain": [
              "[1] 7.814728"
            ]
          },
          "metadata": {}
        }
      ]
    },
    {
      "cell_type": "markdown",
      "source": [
        "Wnioski:\n",
        "\n",
        "Hipoteza zerowa h0 zostaje odrzucona na rzecz h1. Rozkłady śmierci z powodu przedawkowania narkotyków według rasy a rozkładem rasy w stanie Coecticut nie są zgodne."
      ],
      "metadata": {
        "id": "yV9ISQXddcV4"
      }
    },
    {
      "cell_type": "markdown",
      "source": [
        "***\n",
        "## Test **t-Studenta**\n",
        "***"
      ],
      "metadata": {
        "id": "wbvm6joOhAem"
      }
    },
    {
      "cell_type": "markdown",
      "source": [
        "Przeprowadziłem test ***t-Studenta*** w celu odpowiedzenia na pytanie:\n",
        "\n",
        "*Czy istnieje istotna różnica w średnim wieku zmarłych mężczyzn i kobiet w związku z przedawkowaniem narkotyków?*\n"
      ],
      "metadata": {
        "id": "c2BxCndyhJEy"
      }
    },
    {
      "cell_type": "code",
      "source": [
        "data_male <- data[data$Sex == \"Male\", \"Age\"]\n",
        "data_female <- data[data$Sex == \"Female\", \"Age\"]"
      ],
      "metadata": {
        "id": "sJRTELsrik3p"
      },
      "execution_count": 9,
      "outputs": []
    },
    {
      "cell_type": "markdown",
      "source": [
        "Na początku zostały sprawdzone założenia testu ***t-Studenta***, w tym celu uzyto testu normalności ***Shapiro-Wilka***"
      ],
      "metadata": {
        "id": "A_dcSxEhjl__"
      }
    },
    {
      "cell_type": "code",
      "source": [
        "shapiro.test(data_male)\n",
        "shapiro.test(data_female)"
      ],
      "metadata": {
        "colab": {
          "base_uri": "https://localhost:8080/",
          "height": 200
        },
        "id": "SYr4Ijt3kEO-",
        "outputId": "f76d877f-b456-48ce-a6cc-a6b8f0b7c45a"
      },
      "execution_count": null,
      "outputs": [
        {
          "output_type": "display_data",
          "data": {
            "text/plain": [
              "\n",
              "\tShapiro-Wilk normality test\n",
              "\n",
              "data:  data_male\n",
              "W = 0.97903, p-value < 2.2e-16\n"
            ]
          },
          "metadata": {}
        },
        {
          "output_type": "display_data",
          "data": {
            "text/plain": [
              "\n",
              "\tShapiro-Wilk normality test\n",
              "\n",
              "data:  data_female\n",
              "W = 0.97637, p-value = 6.416e-14\n"
            ]
          },
          "metadata": {}
        }
      ]
    },
    {
      "cell_type": "markdown",
      "source": [
        "P wartości są mniejsze od 0.05 co oznacza, że dane znacząco nie odbiegają od rozkładu normalnego. Założenia testu t-Studenta zostały spełnione"
      ],
      "metadata": {
        "id": "36Xh7JASkPZ_"
      }
    },
    {
      "cell_type": "markdown",
      "source": [],
      "metadata": {
        "id": "HBdNjpRFkirH"
      }
    },
    {
      "cell_type": "markdown",
      "source": [
        "Porównanie wariancji"
      ],
      "metadata": {
        "id": "7lFzqTr2ir2A"
      }
    },
    {
      "cell_type": "code",
      "source": [
        "var.test(data_male, data_female) # Test F"
      ],
      "metadata": {
        "colab": {
          "base_uri": "https://localhost:8080/",
          "height": 218
        },
        "id": "2cmsbdg3irFp",
        "outputId": "9cc20084-3c97-4e61-b873-3ed30e8156ef"
      },
      "execution_count": null,
      "outputs": [
        {
          "output_type": "display_data",
          "data": {
            "text/plain": [
              "\n",
              "\tF test to compare two variances\n",
              "\n",
              "data:  data_male and data_female\n",
              "F = 0.94451, num df = 3772, denom df = 1324, p-value = 0.2018\n",
              "alternative hypothesis: true ratio of variances is not equal to 1\n",
              "95 percent confidence interval:\n",
              " 0.8636298 1.0310034\n",
              "sample estimates:\n",
              "ratio of variances \n",
              "         0.9445144 \n"
            ]
          },
          "metadata": {}
        }
      ]
    },
    {
      "cell_type": "code",
      "source": [
        "t_test_result <- t.test(data_male, data_female)\n",
        "t_test_result"
      ],
      "metadata": {
        "colab": {
          "base_uri": "https://localhost:8080/",
          "height": 218
        },
        "id": "J0KeofZ0jBJ5",
        "outputId": "7430f69d-7def-479e-86cb-af4306867d22"
      },
      "execution_count": null,
      "outputs": [
        {
          "output_type": "display_data",
          "data": {
            "text/plain": [
              "\n",
              "\tWelch Two Sample t-test\n",
              "\n",
              "data:  data_male and data_female\n",
              "t = -1.9652, df = 2260.7, p-value = 0.04951\n",
              "alternative hypothesis: true difference in means is not equal to 0\n",
              "95 percent confidence interval:\n",
              " -1.567454363 -0.001667651\n",
              "sample estimates:\n",
              "mean of x mean of y \n",
              " 41.75431  42.53887 \n"
            ]
          },
          "metadata": {}
        }
      ]
    },
    {
      "cell_type": "code",
      "source": [
        "t_test_result$p.value\n",
        "t_test_result$estimate"
      ],
      "metadata": {
        "colab": {
          "base_uri": "https://localhost:8080/",
          "height": 52
        },
        "id": "OELTnHApjGMC",
        "outputId": "561b9b11-baf9-48d6-ad7b-b76322853c82"
      },
      "execution_count": null,
      "outputs": [
        {
          "output_type": "display_data",
          "data": {
            "text/html": [
              "0.0495143951785191"
            ],
            "text/markdown": "0.0495143951785191",
            "text/latex": "0.0495143951785191",
            "text/plain": [
              "[1] 0.0495144"
            ]
          },
          "metadata": {}
        },
        {
          "output_type": "display_data",
          "data": {
            "text/html": [
              "<style>\n",
              ".dl-inline {width: auto; margin:0; padding: 0}\n",
              ".dl-inline>dt, .dl-inline>dd {float: none; width: auto; display: inline-block}\n",
              ".dl-inline>dt::after {content: \":\\0020\"; padding-right: .5ex}\n",
              ".dl-inline>dt:not(:first-of-type) {padding-left: .5ex}\n",
              "</style><dl class=dl-inline><dt>mean of x</dt><dd>41.7543069175722</dd><dt>mean of y</dt><dd>42.5388679245283</dd></dl>\n"
            ],
            "text/markdown": "mean of x\n:   41.7543069175722mean of y\n:   42.5388679245283\n\n",
            "text/latex": "\\begin{description*}\n\\item[mean of x] 41.7543069175722\n\\item[mean of y] 42.5388679245283\n\\end{description*}\n",
            "text/plain": [
              "mean of x mean of y \n",
              " 41.75431  42.53887 "
            ]
          },
          "metadata": {}
        }
      ]
    },
    {
      "cell_type": "markdown",
      "source": [
        "****\n",
        "## Test dwóch populacji\n",
        "****"
      ],
      "metadata": {
        "id": "GuxXE9kcVdKK"
      }
    },
    {
      "cell_type": "markdown",
      "source": [
        "Bazując na zbiorze danych chiałem odpowiedzieć na pytanie:\n",
        "\n",
        "Czy istnieje istotna różnica w średniej wieku u kobiet i mężczyzn zmarłych z powodu przedawkowania narkotyków?\n",
        "\n",
        "Do ustalenia odpowiedzi na to pytanie skorzystam z testu dla niesparowanej dużej próby. Jednak przed tym trzeba zweryfikować czy zmienna reprezentująca kobiety oraz zmienna reprezentująca mężczyzn może być przybliżona rozkładem normalnym. W celu sprawdzenia tego skorzystam z testu Shapiro-Wilka z poziomem istotności 0.05.\n",
        "\n",
        "Hipotezy głównego testu:\n",
        "\n",
        "H_0 = Nie istnieje róźnica w średniej wieku u kobiet i mężczyzn zmarłych z powodu przedawkowania narkotyków.\n",
        "\n",
        "H_1 = Istnieje różnica\n",
        "Poziom istoności 0.05."
      ],
      "metadata": {
        "id": "7WaR9yCOVkxN"
      }
    },
    {
      "cell_type": "code",
      "source": [
        "data_male <- data[data$Sex == \"Male\", \"Age\"]\n",
        "data_female <- data[data$Sex == \"Female\", \"Age\"]\n",
        "hist(data_male, \n",
        "  main = \"Liczba zmarłych mężczyzn w stanie Connecticut z podziałem na wiek\",\n",
        "  xlab = \"Wiek\",\n",
        "  ylab = \"Liczba zgonów\",\n",
        "  col = \"steelblue\")\n",
        "hist(data_female,\n",
        "  main = \"Liczba zmarłych kobiet w stanie Connecticut z podziałem na wiek\",\n",
        "  xlab = \"Wiek\",\n",
        "  ylab = \"Liczba zgonów\",\n",
        "  col = \"steelblue\"\n",
        "  )"
      ],
      "metadata": {
        "colab": {
          "base_uri": "https://localhost:8080/",
          "height": 857
        },
        "id": "ezPk3fd3WbJy",
        "outputId": "a2f27588-6e7f-4043-8580-80654205f675"
      },
      "execution_count": 18,
      "outputs": [
        {
          "output_type": "display_data",
          "data": {
            "text/plain": [
              "Plot with title “Liczba zmarłych mężczyzn w stanie Connecticut z podziałem na wiek”"
            ],
            "image/png": "[encoded data removed]"
          },
          "metadata": {
            "image/png": {
              "width": 420,
              "height": 420
            }
          }
        },
        {
          "output_type": "display_data",
          "data": {
            "text/plain": [
              "Plot with title “Liczba zmarłych kobiet w stanie Connecticut z podziałem na wiek”"
            ],
            "image/png": "[encoded data removed]"
          },
          "metadata": {
            "image/png": {
              "width": 420,
              "height": 420
            }
          }
        }
      ]
    },
    {
      "cell_type": "markdown",
      "source": [
        "**Test Shapiro-Wilka**"
      ],
      "metadata": {
        "id": "sxpctsl7XfcO"
      }
    },
    {
      "cell_type": "markdown",
      "source": [
        "W teście Shapiro-Wilka hipoteza zerowa brzmi: Zmienna może mieć rozkład normalny, a alternatywna że zmienna nie może mieć rozkładu normalnego."
      ],
      "metadata": {
        "id": "kc6SNCg5isZm"
      }
    },
    {
      "cell_type": "code",
      "source": [
        "shapiro.test(data_male)\n",
        "shapiro.test(data_female)"
      ],
      "metadata": {
        "colab": {
          "base_uri": "https://localhost:8080/",
          "height": 200
        },
        "id": "A7zrH6KcXjGk",
        "outputId": "8ec12e79-90de-49c2-da8b-b4755ec4a686"
      },
      "execution_count": 29,
      "outputs": [
        {
          "output_type": "display_data",
          "data": {
            "text/plain": [
              "\n",
              "\tShapiro-Wilk normality test\n",
              "\n",
              "data:  data_male\n",
              "W = 0.97903, p-value < 2.2e-16\n"
            ]
          },
          "metadata": {}
        },
        {
          "output_type": "display_data",
          "data": {
            "text/plain": [
              "\n",
              "\tShapiro-Wilk normality test\n",
              "\n",
              "data:  data_female\n",
              "W = 0.97637, p-value = 6.416e-14\n"
            ]
          },
          "metadata": {}
        }
      ]
    },
    {
      "cell_type": "markdown",
      "source": [
        "Niestety w obu przypadkach muszę udrzucić hipotezę zerową i przyjąć hipotezę alternatywną. Przez to nie mogę kontynuować testu niesparowanego. I muszę zmienić test na Manna-Whitneya, który w R znajduje się pod funckją wilcoxon()."
      ],
      "metadata": {
        "id": "EYhBiI31jAIX"
      }
    },
    {
      "cell_type": "code",
      "source": [
        "wilcox.test(data_male, data_female, paired = FALSE, correct = FALSE)"
      ],
      "metadata": {
        "colab": {
          "base_uri": "https://localhost:8080/",
          "height": 127
        },
        "id": "CyDNkMKvkFC4",
        "outputId": "849ff4b0-d439-4b17-bc01-1999f29c2b57"
      },
      "execution_count": 34,
      "outputs": [
        {
          "output_type": "display_data",
          "data": {
            "text/plain": [
              "\n",
              "\tWilcoxon rank sum test\n",
              "\n",
              "data:  data_male and data_female\n",
              "W = 2401110, p-value = 0.03253\n",
              "alternative hypothesis: true location shift is not equal to 0\n"
            ]
          },
          "metadata": {}
        }
      ]
    },
    {
      "cell_type": "markdown",
      "source": [
        "Na podstawie powyższego testu odrzucam hipotezę zerową na rzecz hipotezy alternatywnej, czyli \"Istnieje istotna statystycznie róźnica średniej wieku u kobiet i mężczyzn zmarłych z powodu przedawkowania narkotyków.\""
      ],
      "metadata": {
        "id": "nl8Hs8prk77s"
      }
    },
    {
      "cell_type": "markdown",
      "source": [
        "****\n",
        "## Test Z\n",
        "****\n",
        "W tym teście chciałbym sprawdzić czy istnieje statystcznie istotna róźnica między średnią wieku ofiar z całego okresu a poszczególnymi latami z zbioru danych.\n",
        "\n",
        "Test jest dwustronny z poziomem istotności α = 0.05.\n",
        "Hipotezy:\n",
        "\n",
        "H_0: 𝐗_year = μ\n",
        "\n",
        "H_1: 𝐗_year != μ "
      ],
      "metadata": {
        "id": "mzWNh_4klVQL"
      }
    },
    {
      "cell_type": "code",
      "source": [
        "data$Date <- as.Date(data$Date, format = \"%m/%d/%Y %I:%M:%S %p\")\n",
        "data$Date <- format(data$Date, \"%Y\")"
      ],
      "metadata": {
        "id": "x1Supr9ZnHx7"
      },
      "execution_count": 54,
      "outputs": []
    },
    {
      "cell_type": "code",
      "source": [
        "z <- function(year_data) {\n",
        "  z <- ((mean(year_data) - mean(data$Age))/sd(data$Age))*sqrt(length(year_data))\n",
        "  z <- abs(z)\n",
        "  return(z)\n",
        "}\n",
        "\n",
        "reject <- function(value) {\n",
        "  decision = FALSE\n",
        "  if (value > qnorm(1 - 0.05/2)) {\n",
        "    decision = TRUE\n",
        "  }\n",
        "  return(decision)\n",
        "}\n",
        "\n",
        "\n",
        "mean_all_period <- mean(data$Age)\n",
        "data_2012 <- data[data$Date == '2012', \"Age\"]\n",
        "data_2013 <- data[data$Date == '2013', \"Age\"]\n",
        "data_2014 <- data[data$Date == '2014', \"Age\"]\n",
        "data_2015 <- data[data$Date == '2015', \"Age\"]\n",
        "data_2016 <- data[data$Date == '2016', \"Age\"]\n",
        "data_2017 <- data[data$Date == '2017', \"Age\"]\n",
        "data_2018 <- data[data$Date == '2018', \"Age\"]\n",
        "\n",
        "data_2012 <- data_2012[complete.cases(data_2012)]\n",
        "data_2013 <- data_2013[complete.cases(data_2013)]\n",
        "data_2014 <- data_2014[complete.cases(data_2014)]\n",
        "data_2015 <- data_2015[complete.cases(data_2015)]\n",
        "data_2016 <- data_2016[complete.cases(data_2016)]\n",
        "data_2017 <- data_2017[complete.cases(data_2017)]\n",
        "data_2018 <- data_2018[complete.cases(data_2018)]\n",
        "\n",
        "years <- c(2012, 2013, 2014, 2015, 2016, 2017, 2018)\n",
        "data_list <- list(data_2012, data_2013, data_2014, data_2015, data_2016, data_2017, data_2018)\n",
        "frame <- data.frame(Year = years, MeanAge = sapply(data_list, mean))\n",
        "frame <- cbind(frame, VarianceAge = sapply(data_list, var))\n",
        "frame <- cbind(frame, SdAge = sapply(data_list, sd))\n",
        "frame <- cbind(frame, Zvalue = sapply(data_list, z))\n",
        "frame <- cbind(frame, RejectH0 = sapply(frame$Zvalue, reject))\n",
        "frame"
      ],
      "metadata": {
        "colab": {
          "base_uri": "https://localhost:8080/",
          "height": 335
        },
        "id": "p7D773Y2p0_M",
        "outputId": "3a2d9f8c-635c-44b1-d1b0-8a2bb1ddbfdd"
      },
      "execution_count": 92,
      "outputs": [
        {
          "output_type": "display_data",
          "data": {
            "text/html": [
              "<table class=\"dataframe\">\n",
              "<caption>A data.frame: 7 × 6</caption>\n",
              "<thead>\n",
              "\t<tr><th scope=col>Year</th><th scope=col>MeanAge</th><th scope=col>VarianceAge</th><th scope=col>SdAge</th><th scope=col>Zvalue</th><th scope=col>RejectH0</th></tr>\n",
              "\t<tr><th scope=col>&lt;dbl&gt;</th><th scope=col>&lt;dbl&gt;</th><th scope=col>&lt;dbl&gt;</th><th scope=col>&lt;dbl&gt;</th><th scope=col>&lt;dbl&gt;</th><th scope=col>&lt;lgl&gt;</th></tr>\n",
              "</thead>\n",
              "<tbody>\n",
              "\t<tr><td>2012</td><td>40.77183</td><td>157.3687</td><td>12.54467</td><td>1.8221689</td><td>FALSE</td></tr>\n",
              "\t<tr><td>2013</td><td>41.38776</td><td>149.7757</td><td>12.23829</td><td>1.0356139</td><td>FALSE</td></tr>\n",
              "\t<tr><td>2014</td><td>41.57810</td><td>143.4494</td><td>11.97704</td><td>0.7400112</td><td>FALSE</td></tr>\n",
              "\t<tr><td>2015</td><td>42.30303</td><td>163.9301</td><td>12.80352</td><td>0.7384743</td><td>FALSE</td></tr>\n",
              "\t<tr><td>2016</td><td>42.08288</td><td>147.0455</td><td>12.12623</td><td>0.2895573</td><td>FALSE</td></tr>\n",
              "\t<tr><td>2017</td><td>41.74085</td><td>150.7650</td><td>12.27864</td><td>0.5851693</td><td>FALSE</td></tr>\n",
              "\t<tr><td>2018</td><td>42.76523</td><td>153.3873</td><td>12.38496</td><td>2.0698335</td><td> TRUE</td></tr>\n",
              "</tbody>\n",
              "</table>\n"
            ],
            "text/markdown": "\nA data.frame: 7 × 6\n\n| Year &lt;dbl&gt; | MeanAge &lt;dbl&gt; | VarianceAge &lt;dbl&gt; | SdAge &lt;dbl&gt; | Zvalue &lt;dbl&gt; | RejectH0 &lt;lgl&gt; |\n|---|---|---|---|---|---|\n| 2012 | 40.77183 | 157.3687 | 12.54467 | 1.8221689 | FALSE |\n| 2013 | 41.38776 | 149.7757 | 12.23829 | 1.0356139 | FALSE |\n| 2014 | 41.57810 | 143.4494 | 11.97704 | 0.7400112 | FALSE |\n| 2015 | 42.30303 | 163.9301 | 12.80352 | 0.7384743 | FALSE |\n| 2016 | 42.08288 | 147.0455 | 12.12623 | 0.2895573 | FALSE |\n| 2017 | 41.74085 | 150.7650 | 12.27864 | 0.5851693 | FALSE |\n| 2018 | 42.76523 | 153.3873 | 12.38496 | 2.0698335 |  TRUE |\n\n",
            "text/latex": "A data.frame: 7 × 6\n\\begin{tabular}{llllll}\n Year & MeanAge & VarianceAge & SdAge & Zvalue & RejectH0\\\\\n <dbl> & <dbl> & <dbl> & <dbl> & <dbl> & <lgl>\\\\\n\\hline\n\t 2012 & 40.77183 & 157.3687 & 12.54467 & 1.8221689 & FALSE\\\\\n\t 2013 & 41.38776 & 149.7757 & 12.23829 & 1.0356139 & FALSE\\\\\n\t 2014 & 41.57810 & 143.4494 & 11.97704 & 0.7400112 & FALSE\\\\\n\t 2015 & 42.30303 & 163.9301 & 12.80352 & 0.7384743 & FALSE\\\\\n\t 2016 & 42.08288 & 147.0455 & 12.12623 & 0.2895573 & FALSE\\\\\n\t 2017 & 41.74085 & 150.7650 & 12.27864 & 0.5851693 & FALSE\\\\\n\t 2018 & 42.76523 & 153.3873 & 12.38496 & 2.0698335 &  TRUE\\\\\n\\end{tabular}\n",
            "text/plain": [
              "  Year MeanAge  VarianceAge SdAge    Zvalue    RejectH0\n",
              "1 2012 40.77183 157.3687    12.54467 1.8221689 FALSE   \n",
              "2 2013 41.38776 149.7757    12.23829 1.0356139 FALSE   \n",
              "3 2014 41.57810 143.4494    11.97704 0.7400112 FALSE   \n",
              "4 2015 42.30303 163.9301    12.80352 0.7384743 FALSE   \n",
              "5 2016 42.08288 147.0455    12.12623 0.2895573 FALSE   \n",
              "6 2017 41.74085 150.7650    12.27864 0.5851693 FALSE   \n",
              "7 2018 42.76523 153.3873    12.38496 2.0698335  TRUE   "
            ]
          },
          "metadata": {}
        },
        {
          "output_type": "display_data",
          "data": {
            "text/html": [
              "1.95996398454005"
            ],
            "text/markdown": "1.95996398454005",
            "text/latex": "1.95996398454005",
            "text/plain": [
              "[1] 1.959964"
            ]
          },
          "metadata": {}
        }
      ]
    },
    {
      "cell_type": "markdown",
      "source": [
        "Na podstawie przeprowadzonego testu, jedynie w roku 2018 wartość średnia wieku różniła się statystycznie od średniej wieku w całej próbie.\n",
        "****"
      ],
      "metadata": {
        "id": "gel9YKYU1qKp"
      }
    }
  ]
}